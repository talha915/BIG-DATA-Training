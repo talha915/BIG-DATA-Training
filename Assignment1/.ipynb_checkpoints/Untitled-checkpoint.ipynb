{
 "cells": [
  {
   "cell_type": "code",
   "execution_count": 31,
   "metadata": {},
   "outputs": [],
   "source": [
    "import numpy as np\n",
    "import pandas as pd\n",
    "import matplotlib.pyplot as plt\n",
    "import seaborn as sns"
   ]
  },
  {
   "cell_type": "code",
   "execution_count": 32,
   "metadata": {},
   "outputs": [],
   "source": [
    "import os\n",
    "import gnupg"
   ]
  },
  {
   "cell_type": "code",
   "execution_count": 33,
   "metadata": {},
   "outputs": [],
   "source": [
    "public_key = 'mQENBF7VSgIBCACqLBv6PTmyRL0QUoGLayhxbgemk+SoKyn4uIUS+SPre4eYJNnwx/YvEKICa7JZEONiqALzBuoIJOxsvqGU7HwD2wnRzm7rB57zarW6RhCSeDUhT7ZaVJbQCaJDJ3Q+bz62SBnPlihsxSE4s8ahs+66B2pemxs9PpeC+gl/Rl416MMVnG4+NX5GYXrIurDY5niydic0ZxkkiGaVhyG8UfyJPZ6mxRVrtr6NcPJ4kp0G74jWScIzwRoNxXXb70AAHZL6xKO8UTtqBDSa1Q8fAumjrf8XvXDqJr7wmhbUrNj1URSUsH4sqFOO0LkwIZd+S5KL1Mvp+gmgze14uRqAwJCdABEBAAG0DWFiY0BnbWFpbC5jb22JARwEEAECAAYFAl7VSgIACgkQbY6JFofvM+ZgbAf7BfQP8TLqp7ZDAAY2QGix2miEixQxjvVRNPOB7qvO0+9/0H3hmChoColhESJ1exRW6r00V0gctZDlNUhf9003LdNLV/UhiRxpsqcEcm6wCKejx8cOiZm+wWFLOSTdOFEw51LUKP53kYAzFrOjL5LJXwrbkqVtIEcxWN6D/e8hptqcyoAu6queTGV1gNDOOb9Cxwu9JNKgzuUnWklW0a54ooLZlhY8QlNChv5SSWIzHZcUQ9vI2Tg5CpUXs9UjZbecGWppjPhpoq36S1F0nTjJTbdjdgulDaW9zEWojs1pNzdgukyOSe3klTpk0KC48lFMwa3m8sQIDZPGODZIQ6Y5Gw===o05P'"
   ]
  },
  {
   "cell_type": "code",
   "execution_count": 34,
   "metadata": {},
   "outputs": [],
   "source": [
    "import pyAesCrypt"
   ]
  },
  {
   "cell_type": "code",
   "execution_count": 35,
   "metadata": {},
   "outputs": [],
   "source": [
    "bufferSize = 64 * 1024"
   ]
  },
  {
   "cell_type": "code",
   "execution_count": 36,
   "metadata": {},
   "outputs": [],
   "source": [
    "pyAesCrypt.encryptFile(\"CustomerData.csv\", \"CustomerDataenc.csv\", public_key, bufferSize)"
   ]
  },
  {
   "cell_type": "code",
   "execution_count": 39,
   "metadata": {},
   "outputs": [],
   "source": [
    "pyAesCrypt.decryptFile(\"CustomerDataenc.csv\", \"CustomerDatadec.csv\", public_key, bufferSize)"
   ]
  },
  {
   "cell_type": "code",
   "execution_count": null,
   "metadata": {},
   "outputs": [],
   "source": []
  }
 ],
 "metadata": {
  "kernelspec": {
   "display_name": "Python 3",
   "language": "python",
   "name": "python3"
  },
  "language_info": {
   "codemirror_mode": {
    "name": "ipython",
    "version": 3
   },
   "file_extension": ".py",
   "mimetype": "text/x-python",
   "name": "python",
   "nbconvert_exporter": "python",
   "pygments_lexer": "ipython3",
   "version": "3.7.3"
  }
 },
 "nbformat": 4,
 "nbformat_minor": 2
}
