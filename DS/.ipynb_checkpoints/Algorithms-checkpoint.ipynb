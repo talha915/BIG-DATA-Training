{
 "cells": [
  {
   "cell_type": "markdown",
   "metadata": {},
   "source": [
    "# Binary Search"
   ]
  },
  {
   "cell_type": "code",
   "execution_count": 1,
   "metadata": {},
   "outputs": [],
   "source": [
    "def binary_search(arr, target_number):\n",
    "    low = 0\n",
    "    high = len(arr) - 1\n",
    "    \n",
    "    while low <= high:\n",
    "        mid = (low+high) // 2\n",
    "        if arr[mid] < target_number:\n",
    "            low = mid + 1\n",
    "        elif arr[mid] == target_number:\n",
    "            return mid\n",
    "        else:\n",
    "            high = mid - 1\n",
    "    return -1        \n"
   ]
  },
  {
   "cell_type": "code",
   "execution_count": 2,
   "metadata": {},
   "outputs": [
    {
     "name": "stdout",
     "output_type": "stream",
     "text": [
      "Element found at index 5\n"
     ]
    }
   ],
   "source": [
    "arr = [2, 5, 8, 12, 16, 23, 38, 56, 72, 91]\n",
    "target = 23\n",
    "result = binary_search(arr, target)\n",
    "\n",
    "if result != -1:\n",
    "    print(\"Element found at index\", result)\n",
    "else:\n",
    "    print(\"Element not found\")"
   ]
  },
  {
   "cell_type": "markdown",
   "metadata": {},
   "source": [
    "# Palindrome Number"
   ]
  },
  {
   "cell_type": "code",
   "execution_count": 3,
   "metadata": {},
   "outputs": [],
   "source": [
    "def palindrome(string):\n",
    "    rough_list = []\n",
    "    for i in string:\n",
    "        rough_list.append(i)\n",
    "    rough_list.reverse() \n",
    "    reverse_str = ''.join(rough_list)\n",
    "    if string == reverse_str:\n",
    "        return f\"{string} is Palindrome\"\n",
    "    else:\n",
    "        return f\"{string} is not a Palindrome\""
   ]
  },
  {
   "cell_type": "code",
   "execution_count": 4,
   "metadata": {},
   "outputs": [
    {
     "data": {
      "text/plain": [
       "'level is Palindrome'"
      ]
     },
     "execution_count": 4,
     "metadata": {},
     "output_type": "execute_result"
    }
   ],
   "source": [
    "palindrome(string = \"level\")"
   ]
  },
  {
   "cell_type": "markdown",
   "metadata": {},
   "source": [
    "# Optimized Palindrome"
   ]
  },
  {
   "cell_type": "code",
   "execution_count": 5,
   "metadata": {},
   "outputs": [],
   "source": [
    "def palindrome(string):\n",
    "    reverse = string[::-1]\n",
    "    if reverse == string:\n",
    "        return f\"{string} is Palindrome\"\n",
    "    else:\n",
    "        return f\"{string} is not a Palindrome\""
   ]
  },
  {
   "cell_type": "code",
   "execution_count": 6,
   "metadata": {},
   "outputs": [
    {
     "data": {
      "text/plain": [
       "'LeveL is Palindrome'"
      ]
     },
     "execution_count": 6,
     "metadata": {},
     "output_type": "execute_result"
    }
   ],
   "source": [
    "palindrome(\"LeveL\")"
   ]
  },
  {
   "cell_type": "markdown",
   "metadata": {},
   "source": [
    "# Vowels Count"
   ]
  },
  {
   "cell_type": "code",
   "execution_count": 7,
   "metadata": {},
   "outputs": [],
   "source": [
    "def vowels_count(string):\n",
    "    list_of_vowels = ['a', 'e', 'i', 'o', 'u']\n",
    "    count = 0\n",
    "    for i in string:\n",
    "        if i in list_of_vowels:\n",
    "            count = count+1\n",
    "    return f\"Total vowels in {string} are {count}\""
   ]
  },
  {
   "cell_type": "code",
   "execution_count": 8,
   "metadata": {},
   "outputs": [
    {
     "data": {
      "text/plain": [
       "'Total vowels in Palindrome are 4'"
      ]
     },
     "execution_count": 8,
     "metadata": {},
     "output_type": "execute_result"
    }
   ],
   "source": [
    "vowels_count(\"Palindrome\")"
   ]
  },
  {
   "cell_type": "markdown",
   "metadata": {},
   "source": [
    "# Optimizing Vowels Count"
   ]
  },
  {
   "cell_type": "code",
   "execution_count": 9,
   "metadata": {},
   "outputs": [
    {
     "name": "stdout",
     "output_type": "stream",
     "text": [
      "Total vowels in Hello, World! are 3\n",
      "Total vowels in Programming is fun are 5\n"
     ]
    }
   ],
   "source": [
    "def vowels_count(string):\n",
    "    count = string.lower().count('a') + string.lower().count('e') + string.lower().count('i') + string.lower().count('o') + string.lower().count('u')\n",
    "    return f\"Total vowels in {string} are {count}\"\n",
    "\n",
    "print(vowels_count(\"Hello, World!\"))\n",
    "print(vowels_count(\"Programming is fun\"))"
   ]
  },
  {
   "cell_type": "markdown",
   "metadata": {},
   "source": [
    "# Find Duplicates"
   ]
  },
  {
   "cell_type": "code",
   "execution_count": 39,
   "metadata": {},
   "outputs": [],
   "source": [
    "def find_duplicates(original_list):\n",
    "    my_obj = {}\n",
    "    for item in original_list:\n",
    "        count = 0\n",
    "        for compare_value in original_list:\n",
    "            if item == compare_value:\n",
    "                count = count + 1\n",
    "        my_obj[item] = count\n",
    "    return my_obj      "
   ]
  },
  {
   "cell_type": "code",
   "execution_count": 40,
   "metadata": {},
   "outputs": [
    {
     "data": {
      "text/plain": [
       "{1: 1, 2: 2, 3: 2, 4: 1, 5: 1, 6: 4}"
      ]
     },
     "execution_count": 40,
     "metadata": {},
     "output_type": "execute_result"
    }
   ],
   "source": [
    "original_list = [1, 2, 3, 2, 4, 5, 3, 6, 6, 6, 6]\n",
    "find_duplicate(original_list)"
   ]
  },
  {
   "cell_type": "markdown",
   "metadata": {},
   "source": [
    "# Optimize Duplicates"
   ]
  },
  {
   "cell_type": "code",
   "execution_count": 46,
   "metadata": {},
   "outputs": [
    {
     "data": {
      "text/plain": [
       "{1: 1, 2: 2, 3: 2, 4: 1, 5: 1, 6: 4}"
      ]
     },
     "execution_count": 46,
     "metadata": {},
     "output_type": "execute_result"
    }
   ],
   "source": [
    "def find_duplicates(original_list):\n",
    "    my_obj = {}\n",
    "    for item in original_list:\n",
    "        if item in my_obj:\n",
    "            my_obj[item] += 1\n",
    "        else:\n",
    "            my_obj[item] = 1\n",
    "    return my_obj\n",
    "\n",
    "original_list = [1, 2, 3, 2, 4, 5, 3, 6, 6, 6, 6]\n",
    "find_duplicates(original_list)\n"
   ]
  },
  {
   "cell_type": "code",
   "execution_count": null,
   "metadata": {},
   "outputs": [],
   "source": []
  }
 ],
 "metadata": {
  "kernelspec": {
   "display_name": "Python 3",
   "language": "python",
   "name": "python3"
  },
  "language_info": {
   "codemirror_mode": {
    "name": "ipython",
    "version": 3
   },
   "file_extension": ".py",
   "mimetype": "text/x-python",
   "name": "python",
   "nbconvert_exporter": "python",
   "pygments_lexer": "ipython3",
   "version": "3.8.5"
  }
 },
 "nbformat": 4,
 "nbformat_minor": 4
}
