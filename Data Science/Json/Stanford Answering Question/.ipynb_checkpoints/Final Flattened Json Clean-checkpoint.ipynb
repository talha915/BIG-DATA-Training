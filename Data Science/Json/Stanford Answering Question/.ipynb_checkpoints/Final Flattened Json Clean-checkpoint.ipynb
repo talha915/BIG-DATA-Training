{
 "cells": [
  {
   "cell_type": "code",
   "execution_count": 115,
   "metadata": {},
   "outputs": [],
   "source": [
    "json_obj = {\n",
    "    'info_type': {\n",
    "        'type_1': 1,\n",
    "        'type_2': 2\n",
    "    }, \n",
    "    'school': 'ABC primary school',\n",
    "    'location': 'London',\n",
    "    'ranking': 2,\n",
    "    'info': {\n",
    "        'president': 'John Kasich',\n",
    "        'contacts': {\n",
    "          'email': {\n",
    "              'admission': 'admission@abc.com',\n",
    "              'general': 'info@abc.com'\n",
    "          },\n",
    "          'tel': '123456789',\n",
    "      }\n",
    "    },\n",
    "    'students': [\n",
    "      { 'name': 'Tom' },\n",
    "      { 'name': 'James' },\n",
    "      { 'name': 'Jacqueline' }\n",
    "    ],\n",
    "}"
   ]
  },
  {
   "cell_type": "code",
   "execution_count": 109,
   "metadata": {},
   "outputs": [],
   "source": [
    "import pandas as pd\n",
    "def flatten_json(nested_json):\n",
    "    out = {}\n",
    "    def flatten(data, name=''):\n",
    "        if(type(data) is dict):\n",
    "            for i in data:\n",
    "                flatten(data[i], name + i + '_')\n",
    "        elif(type(data) is list):\n",
    "            counter = 0\n",
    "            for i in data:\n",
    "                flatten(i, name + str(counter) + '_')\n",
    "                counter+=1\n",
    "        else:\n",
    "            out[name[:-1]] = data\n",
    "                \n",
    "    flatten(nested_json)\n",
    "    return out"
   ]
  },
  {
   "cell_type": "code",
   "execution_count": 110,
   "metadata": {},
   "outputs": [],
   "source": [
    "result = flatten_json(json_obj)"
   ]
  },
  {
   "cell_type": "code",
   "execution_count": 113,
   "metadata": {},
   "outputs": [
    {
     "name": "stdout",
     "output_type": "stream",
     "text": [
      "info_type_type_1,info_type_type_2,school,location,ranking,info_president,info_contacts_email_admission,info_contacts_email_general,info_contacts_tel,students_0_name,students_1_name,students_2_name\r\n",
      "1,2,ABC primary school,London,2,John Kasich,admission@abc.com,info@abc.com,123456789,Tom,James,Jacqueline\r\n",
      "\n"
     ]
    }
   ],
   "source": [
    "data = pd.DataFrame([result])\n",
    "print(data.to_csv(index=False))"
   ]
  },
  {
   "cell_type": "code",
   "execution_count": 114,
   "metadata": {},
   "outputs": [
    {
     "data": {
      "text/html": [
       "<div>\n",
       "<style scoped>\n",
       "    .dataframe tbody tr th:only-of-type {\n",
       "        vertical-align: middle;\n",
       "    }\n",
       "\n",
       "    .dataframe tbody tr th {\n",
       "        vertical-align: top;\n",
       "    }\n",
       "\n",
       "    .dataframe thead th {\n",
       "        text-align: right;\n",
       "    }\n",
       "</style>\n",
       "<table border=\"1\" class=\"dataframe\">\n",
       "  <thead>\n",
       "    <tr style=\"text-align: right;\">\n",
       "      <th></th>\n",
       "      <th>info_type_type_1</th>\n",
       "      <th>info_type_type_2</th>\n",
       "      <th>school</th>\n",
       "      <th>location</th>\n",
       "      <th>ranking</th>\n",
       "      <th>info_president</th>\n",
       "      <th>info_contacts_email_admission</th>\n",
       "      <th>info_contacts_email_general</th>\n",
       "      <th>info_contacts_tel</th>\n",
       "      <th>students_0_name</th>\n",
       "      <th>students_1_name</th>\n",
       "      <th>students_2_name</th>\n",
       "    </tr>\n",
       "  </thead>\n",
       "  <tbody>\n",
       "    <tr>\n",
       "      <th>0</th>\n",
       "      <td>1</td>\n",
       "      <td>2</td>\n",
       "      <td>ABC primary school</td>\n",
       "      <td>London</td>\n",
       "      <td>2</td>\n",
       "      <td>John Kasich</td>\n",
       "      <td>admission@abc.com</td>\n",
       "      <td>info@abc.com</td>\n",
       "      <td>123456789</td>\n",
       "      <td>Tom</td>\n",
       "      <td>James</td>\n",
       "      <td>Jacqueline</td>\n",
       "    </tr>\n",
       "  </tbody>\n",
       "</table>\n",
       "</div>"
      ],
      "text/plain": [
       "   info_type_type_1  info_type_type_2              school location  ranking  \\\n",
       "0                 1                 2  ABC primary school   London        2   \n",
       "\n",
       "  info_president info_contacts_email_admission info_contacts_email_general  \\\n",
       "0    John Kasich             admission@abc.com                info@abc.com   \n",
       "\n",
       "  info_contacts_tel students_0_name students_1_name students_2_name  \n",
       "0         123456789             Tom           James      Jacqueline  "
      ]
     },
     "execution_count": 114,
     "metadata": {},
     "output_type": "execute_result"
    }
   ],
   "source": [
    "data.head()"
   ]
  },
  {
   "cell_type": "code",
   "execution_count": 118,
   "metadata": {},
   "outputs": [
    {
     "name": "stdout",
     "output_type": "stream",
     "text": [
      "info_type_type_1,info_type_type_2,school,location,ranking,info_president,info_contacts_email_admission,info_contacts_email_general,info_contacts_tel,students_0_name,students_1_name,students_2_name\r\n",
      "1,2,ABC primary school,London,2,John Kasich,admission@abc.com,info@abc.com,123456789,Tom,James,Jacqueline\r\n",
      "\n"
     ]
    }
   ],
   "source": [
    "import pandas as pd\n",
    "\n",
    "def flatten_json(nested_json):\n",
    "    out = {}\n",
    "    def flatten(data, name=''):\n",
    "        if(type(data) is dict):\n",
    "            for i in data:\n",
    "                flatten(data[i], name + i + '_')\n",
    "        elif(type(data) is list):\n",
    "            counter = 0\n",
    "            for i in data:\n",
    "                flatten(i, name + str(counter) + '_')\n",
    "                counter+=1\n",
    "        else:\n",
    "            out[name[:-1]] = data\n",
    "                \n",
    "    flatten(nested_json)\n",
    "    return out\n",
    "\n",
    "def main():\n",
    "    try:\n",
    "        data = json_obj\n",
    "        result = flatten_json(data)\n",
    "        data = pd.DataFrame([result])\n",
    "        print(data.to_csv(index=False))\n",
    "    except:\n",
    "        print(\"Error: \", data)\n",
    "        raise Exception(sys.exc_info()[0])\n",
    "\n",
    "if __name__ == '__main__':\n",
    "    main()"
   ]
  },
  {
   "cell_type": "code",
   "execution_count": null,
   "metadata": {},
   "outputs": [],
   "source": []
  }
 ],
 "metadata": {
  "kernelspec": {
   "display_name": "Python 3",
   "language": "python",
   "name": "python3"
  },
  "language_info": {
   "codemirror_mode": {
    "name": "ipython",
    "version": 3
   },
   "file_extension": ".py",
   "mimetype": "text/x-python",
   "name": "python",
   "nbconvert_exporter": "python",
   "pygments_lexer": "ipython3",
   "version": "3.8.5"
  }
 },
 "nbformat": 4,
 "nbformat_minor": 4
}
