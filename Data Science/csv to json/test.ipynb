{
 "cells": [
  {
   "cell_type": "code",
   "execution_count": null,
   "metadata": {},
   "outputs": [],
   "source": [
    "import pandas as pd\n",
    "import json"
   ]
  },
  {
   "cell_type": "code",
   "execution_count": null,
   "metadata": {},
   "outputs": [],
   "source": [
    "data = pd.read_csv('advertising.csv')\n",
    "json_data = data.to_dict(orient=\"records\")"
   ]
  },
  {
   "cell_type": "code",
   "execution_count": null,
   "metadata": {},
   "outputs": [],
   "source": [
    "def create_user_info(data):\n",
    "    try:\n",
    "        user_info = {\n",
    "            \"Daily Time Spent on Site\": data.get(\"Daily Time Spent on Site\"),\n",
    "            \"Age\": data.get(\"Age\"),\n",
    "            \"Area Income\": data.get(\"Area Income\"),\n",
    "            \"Daily Internet Usage\": data.get(\"Daily Internet Usage\"),\n",
    "            \"Ad Topic Line\": data.get(\"Ad Topic Line\"),\n",
    "            \"Clicked on Ad\": data.get(\"Clicked on Ad\")\n",
    "        }\n",
    "        return user_info\n",
    "    except Exception as e:\n",
    "        return e    \n",
    "\n",
    "def create_location_info(data):\n",
    "    try:\n",
    "        location_info = {\n",
    "            \"City\": data.get(\"City\"),\n",
    "            \"Country\": data.get(\"Country\")\n",
    "        } \n",
    "        return location_info\n",
    "    except Exception as e:\n",
    "        return e   \n",
    "\n",
    "def create_additional_info(data):\n",
    "    try: \n",
    "        additional_info = {\n",
    "            \"Gender\": data.get(\"Gender\"),\n",
    "            \"Timestamp\": data.get(\"Timestamp\")\n",
    "        }   \n",
    "        return additional_info\n",
    "    except Exception as e:\n",
    "        return e "
   ]
  },
  {
   "cell_type": "code",
   "execution_count": null,
   "metadata": {},
   "outputs": [],
   "source": [
    "def main(json_data):\n",
    "    try: \n",
    "        result = {\n",
    "            \"data\": []\n",
    "        }\n",
    "\n",
    "        for i in json_data:\n",
    "            user_info = create_user_info(i)\n",
    "            location_info = create_location_info(i)\n",
    "            additional_info = create_additional_info(i)\n",
    "            result.get(\"data\").append({\n",
    "                \"user_info\": user_info,\n",
    "                \"location_info\": location_info,\n",
    "                \"additional_info\": additional_info\n",
    "            })\n",
    "        return result\n",
    "    except Exception as e:\n",
    "        return e    "
   ]
  },
  {
   "cell_type": "code",
   "execution_count": null,
   "metadata": {},
   "outputs": [],
   "source": [
    "final_json = main(json_data)\n",
    "file_path = \"output.json\"\n",
    "with open(file_path, \"w\") as json_file:\n",
    "    json.dump(final_json, json_file, indent=4)"
   ]
  },
  {
   "cell_type": "code",
   "execution_count": null,
   "metadata": {},
   "outputs": [],
   "source": []
  }
 ],
 "metadata": {
  "kernelspec": {
   "display_name": "base",
   "language": "python",
   "name": "python3"
  },
  "language_info": {
   "codemirror_mode": {
    "name": "ipython",
    "version": 3
   },
   "file_extension": ".py",
   "mimetype": "text/x-python",
   "name": "python",
   "nbconvert_exporter": "python",
   "pygments_lexer": "ipython3",
   "version": "3.11.5"
  }
 },
 "nbformat": 4,
 "nbformat_minor": 2
}
