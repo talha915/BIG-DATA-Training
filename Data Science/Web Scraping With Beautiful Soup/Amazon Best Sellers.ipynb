{
 "cells": [
  {
   "cell_type": "code",
   "execution_count": 89,
   "metadata": {},
   "outputs": [],
   "source": [
    "import pandas as pd\n",
    "import requests\n",
    "from bs4 import BeautifulSoup\n",
    "from html import unescape"
   ]
  },
  {
   "cell_type": "code",
   "execution_count": 148,
   "metadata": {},
   "outputs": [],
   "source": [
    "def fetchedHTML():\n",
    "    url = 'https://www.amazon.com/best-sellers/zgbs'\n",
    "    headers = ({'User-Agent': 'Mozilla/5.0 (Windows NT 10.0; Win64; x64) AppleWebKit/537.36 (KHTML, like Gecko) Chrome/58.0.3029.110 Safari/537.36'})\n",
    "    \n",
    "    req = requests.get(url, headers=headers)\n",
    "    soup = BeautifulSoup(req.text, 'lxml')\n",
    "    return soup"
   ]
  },
  {
   "cell_type": "code",
   "execution_count": 149,
   "metadata": {},
   "outputs": [],
   "source": [
    "resp = fetchedHTML()"
   ]
  },
  {
   "cell_type": "code",
   "execution_count": 150,
   "metadata": {},
   "outputs": [],
   "source": [
    "categories = []\n",
    "def find_category():\n",
    "    cats = resp.find_all(\"h3\", {\"id\": ''})\n",
    "    for category in cats:\n",
    "        parse_cat = unescape(category.text)\n",
    "        categories.append(parse_cat)"
   ]
  },
  {
   "cell_type": "code",
   "execution_count": 151,
   "metadata": {},
   "outputs": [],
   "source": [
    "find_category()"
   ]
  },
  {
   "cell_type": "code",
   "execution_count": 165,
   "metadata": {},
   "outputs": [],
   "source": [
    "product_title = []\n",
    "def get_product_title():\n",
    "    prods = resp.find_all(\"div\", {\"class\": \"p13n-sc-truncate p13n-sc-line-clamp-5 p13n-sc-truncate-desktop-type2\"})\n",
    "    for product in prods:\n",
    "        parse_product = unescape(product.text)\n",
    "        product_title.append(parse_product)"
   ]
  },
  {
   "cell_type": "code",
   "execution_count": 166,
   "metadata": {},
   "outputs": [],
   "source": [
    "get_product_title()"
   ]
  },
  {
   "cell_type": "code",
   "execution_count": 169,
   "metadata": {},
   "outputs": [],
   "source": [
    "reviews = []\n",
    "def get_reviews():\n",
    "    review_list = resp.find_all(\"a\", {\"class\": \"a-size-small a-link-normal\"})\n",
    "    for review in review_list:\n",
    "        parse_review = unescape(review.text)\n",
    "        reviews.append(parse_review)"
   ]
  },
  {
   "cell_type": "code",
   "execution_count": 170,
   "metadata": {},
   "outputs": [],
   "source": [
    "get_reviews()"
   ]
  },
  {
   "cell_type": "code",
   "execution_count": 171,
   "metadata": {},
   "outputs": [
    {
     "data": {
      "text/plain": [
       "['84,324',\n",
       " '13,270',\n",
       " '48,506',\n",
       " '42,911',\n",
       " '458,939',\n",
       " '80,185',\n",
       " '90,660',\n",
       " '52,036',\n",
       " '20,913',\n",
       " '109,772',\n",
       " '79,448',\n",
       " '44,057',\n",
       " '36,463',\n",
       " '917',\n",
       " '21,925',\n",
       " '64,869',\n",
       " '22,609',\n",
       " '9']"
      ]
     },
     "execution_count": 171,
     "metadata": {},
     "output_type": "execute_result"
    }
   ],
   "source": [
    "reviews"
   ]
  },
  {
   "cell_type": "code",
   "execution_count": null,
   "metadata": {},
   "outputs": [],
   "source": []
  }
 ],
 "metadata": {
  "kernelspec": {
   "display_name": "Python 3",
   "language": "python",
   "name": "python3"
  },
  "language_info": {
   "codemirror_mode": {
    "name": "ipython",
    "version": 3
   },
   "file_extension": ".py",
   "mimetype": "text/x-python",
   "name": "python",
   "nbconvert_exporter": "python",
   "pygments_lexer": "ipython3",
   "version": "3.8.3"
  }
 },
 "nbformat": 4,
 "nbformat_minor": 4
}
