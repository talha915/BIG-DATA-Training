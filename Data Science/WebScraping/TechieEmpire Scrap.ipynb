{
 "cells": [
  {
   "cell_type": "code",
   "execution_count": 1,
   "metadata": {},
   "outputs": [],
   "source": [
    "from bs4 import BeautifulSoup"
   ]
  },
  {
   "cell_type": "code",
   "execution_count": 2,
   "metadata": {},
   "outputs": [],
   "source": [
    "import requests"
   ]
  },
  {
   "cell_type": "code",
   "execution_count": 3,
   "metadata": {},
   "outputs": [],
   "source": [
    "url = 'https://www.techieempire.tech/'\n",
    "req = requests.get(url)"
   ]
  },
  {
   "cell_type": "code",
   "execution_count": 6,
   "metadata": {},
   "outputs": [
    {
     "name": "stdout",
     "output_type": "stream",
     "text": [
      "<title>TECHIE EMPIRE</title>\n"
     ]
    }
   ],
   "source": [
    "soup = BeautifulSoup(req.text, 'html.parser')\n",
    "print(soup.title)"
   ]
  },
  {
   "cell_type": "code",
   "execution_count": 11,
   "metadata": {},
   "outputs": [
    {
     "name": "stdout",
     "output_type": "stream",
     "text": [
      "#main\n",
      "https://www.techieempire.tech/\n",
      "https://www.techieempire.tech/2020/06/intrototechieempire.html\n",
      "https://www.techieempire.tech/search/label/COURSES\n",
      "https://www.techieempire.tech/p/author-zone.html\n",
      "https://www.techieempire.tech/p/founders-friend.html\n",
      "None\n",
      "https://www.techieempire.tech/2020/09/building-object-detection-webapp-using.html\n",
      "https://www.techieempire.tech/2020/09/building-object-detection-webapp-using.html\n",
      "https://www.techieempire.tech/2020/09/building-object-detection-webapp-using.html\n",
      "https://www.techieempire.tech/2020/09/building-object-detection-webapp-using.html#comments\n",
      "https://www.techieempire.tech/2020/09/building-object-detection-webapp-using.html\n",
      "None\n",
      "https://www.techieempire.tech/2020/09/roadmap-to-data-sciencemachine-learning.html\n",
      "https://www.techieempire.tech/2020/09/roadmap-to-data-sciencemachine-learning.html\n",
      "https://www.techieempire.tech/2020/09/roadmap-to-data-sciencemachine-learning.html\n",
      "https://www.techieempire.tech/2020/09/roadmap-to-data-sciencemachine-learning.html#comments\n",
      "https://www.techieempire.tech/2020/09/roadmap-to-data-sciencemachine-learning.html\n",
      "None\n",
      "https://www.techieempire.tech/2020/09/build-8-mini-projects-in-python-improve.html\n",
      "https://www.techieempire.tech/2020/09/build-8-mini-projects-in-python-improve.html\n",
      "https://www.techieempire.tech/2020/09/build-8-mini-projects-in-python-improve.html\n",
      "https://www.techieempire.tech/2020/09/build-8-mini-projects-in-python-improve.html#comments\n",
      "https://www.techieempire.tech/2020/09/build-8-mini-projects-in-python-improve.html\n",
      "None\n",
      "https://www.techieempire.tech/2020/08/web-scraping-in-python-using-beautiful.html\n",
      "https://www.techieempire.tech/2020/08/web-scraping-in-python-using-beautiful.html\n",
      "https://www.techieempire.tech/2020/08/web-scraping-in-python-using-beautiful.html\n",
      "https://www.techieempire.tech/2020/08/web-scraping-in-python-using-beautiful.html#comments\n",
      "https://www.techieempire.tech/2020/08/web-scraping-in-python-using-beautiful.html\n",
      "None\n",
      "https://www.techieempire.tech/2020/08/sentiment-analysis-with-nlp-using.html\n",
      "https://www.techieempire.tech/2020/08/sentiment-analysis-with-nlp-using.html\n",
      "https://www.techieempire.tech/2020/08/sentiment-analysis-with-nlp-using.html\n",
      "https://www.techieempire.tech/2020/08/sentiment-analysis-with-nlp-using.html#comments\n",
      "https://www.techieempire.tech/2020/08/sentiment-analysis-with-nlp-using.html\n",
      "None\n",
      "https://www.techieempire.tech/2020/08/data-analytics-z-with-python-course.html\n",
      "https://www.techieempire.tech/2020/08/data-analytics-z-with-python-course.html\n",
      "https://www.techieempire.tech/2020/08/data-analytics-z-with-python-course.html\n",
      "https://www.techieempire.tech/2020/08/data-analytics-z-with-python-course.html#comments\n",
      "https://www.techieempire.tech/2020/08/data-analytics-z-with-python-course.html\n",
      "None\n",
      "https://www.techieempire.tech/2020/07/building-face-detection-and-recognition.html\n",
      "https://www.techieempire.tech/2020/07/building-face-detection-and-recognition.html\n",
      "https://www.techieempire.tech/2020/07/building-face-detection-and-recognition.html\n",
      "https://www.techieempire.tech/2020/07/building-face-detection-and-recognition.html#comments\n",
      "https://www.techieempire.tech/2020/07/building-face-detection-and-recognition.html\n",
      "https://www.techieempire.tech/search?updated-max=2020-07-20T22:56:00-07:00&max-results=7\n",
      "https://www.blogger.com\n",
      "https://www.blogger.com/profile/05983018907471257306\n",
      "https://www.blogger.com/profile/05983018907471257306\n",
      "https://www.blogger.com/profile/05983018907471257306\n",
      "https://www.techieempire.tech/\n",
      "https://www.techieempire.tech/search/label/Author%20choice\n",
      "https://www.techieempire.tech/p/privacy-policy.html\n",
      "https://www.techieempire.tech/search/label/About\n",
      "https://www.techieempire.tech/search/label/Author%20choice\n",
      "https://www.techieempire.tech/search/label/Certificates\n",
      "https://www.techieempire.tech/search/label/Competitive%20coding\n",
      "https://www.techieempire.tech/search/label/Content%20development\n",
      "https://www.techieempire.tech/search/label/COURSES\n",
      "https://www.techieempire.tech/search/label/Deep%20Learning\n",
      "https://www.techieempire.tech/search/label/Machine%20Learning\n",
      "https://www.techieempire.tech/search/label/NLP\n",
      "https://www.techieempire.tech/search/label/TOP%207\n",
      "https://wikipedia.org/wiki/\n",
      "https://www.techieempire.tech/2020/09/\n",
      "https://www.techieempire.tech/2020/08/\n",
      "https://www.techieempire.tech/2020/07/\n",
      "https://www.techieempire.tech/2020/06/\n"
     ]
    }
   ],
   "source": [
    "for link in soup.find_all('a'):\n",
    "    print(link.get('href'))"
   ]
  },
  {
   "cell_type": "code",
   "execution_count": 14,
   "metadata": {},
   "outputs": [],
   "source": [
    "#Extracting Paragraphs\n",
    "paragraphs = []\n",
    "headers = []\n",
    "for para in soup.find_all('p'):\n",
    "    paragraphs.append(para)"
   ]
  },
  {
   "cell_type": "code",
   "execution_count": 16,
   "metadata": {},
   "outputs": [],
   "source": [
    "headers_type = ['h1', 'h2', 'h3', 'h4', 'h5', 'h6']\n",
    "for heads in headers_type:\n",
    "    for headings in soup.find_all(heads):\n",
    "        headers.append(headings)  "
   ]
  },
  {
   "cell_type": "code",
   "execution_count": 17,
   "metadata": {},
   "outputs": [
    {
     "name": "stdout",
     "output_type": "stream",
     "text": [
      "[<h1>\n",
      "TECHIE EMPIRE\n",
      "</h1>, <h2 class=\"main-heading\">Posts</h2>, <h3 class=\"title\">\n",
      "Search\n",
      "</h3>, <h3 class=\"subscribe-title\" id=\"subscribe-title\">Subscribe to this blog</h3>, <h3 class=\"title\">\n",
      "Follow by Email\n",
      "</h3>, <h3 class=\"post-title\"><a href=\"https://www.techieempire.tech/2020/09/building-object-detection-webapp-using.html\">BUILDING AN OBJECT DETECTION WEBAPP USING TENSORFLOW , OPENCV AND FLASK</a></h3>, <h3 class=\"post-title entry-title\">\n",
      "<a href=\"https://www.techieempire.tech/2020/09/roadmap-to-data-sciencemachine-learning.html\">ROADMAP TO DATA SCIENCE/MACHINE LEARNING</a>\n",
      "</h3>, <h3 class=\"post-title entry-title\">\n",
      "<a href=\"https://www.techieempire.tech/2020/09/build-8-mini-projects-in-python-improve.html\">BUILD 8 MINI-PROJECTS IN PYTHON : IMPROVE YOUR RESUME/PORTFOLIO</a>\n",
      "</h3>, <h3 class=\"post-title entry-title\">\n",
      "<a href=\"https://www.techieempire.tech/2020/08/web-scraping-in-python-using-beautiful.html\">WEB SCRAPING IN PYTHON USING BEAUTIFUL SOUP WITH A PROJECT</a>\n",
      "</h3>, <h3 class=\"post-title entry-title\">\n",
      "<a href=\"https://www.techieempire.tech/2020/08/sentiment-analysis-with-nlp-using.html\">SENTIMENT ANALYSIS WITH NLP USING PYTHON AND FLASK: PROJECT BASED COURSE LAUNCH</a>\n",
      "</h3>, <h3 class=\"post-title entry-title\">\n",
      "<a href=\"https://www.techieempire.tech/2020/08/data-analytics-z-with-python-course.html\">DATA ANALYTICS A-Z WITH PYTHON | COURSE LAUNCH</a>\n",
      "</h3>, <h3 class=\"post-title entry-title\">\n",
      "<a href=\"https://www.techieempire.tech/2020/07/building-face-detection-and-recognition.html\">Building a Face Detection and Recognition Model From Scratch : Course Launch</a>\n",
      "</h3>, <h3 class=\"title\">\n",
      "Categories\n",
      "</h3>, <h3 class=\"title\">\n",
      "Global Search\n",
      "</h3>, <h3 class=\"title\">\n",
      "Contact form\n",
      "</h3>, <h3 class=\"title\">\n",
      "Archive\n",
      "</h3>]\n"
     ]
    }
   ],
   "source": [
    "print(headers)"
   ]
  },
  {
   "cell_type": "code",
   "execution_count": null,
   "metadata": {},
   "outputs": [],
   "source": []
  }
 ],
 "metadata": {
  "kernelspec": {
   "display_name": "Python 3",
   "language": "python",
   "name": "python3"
  },
  "language_info": {
   "codemirror_mode": {
    "name": "ipython",
    "version": 3
   },
   "file_extension": ".py",
   "mimetype": "text/x-python",
   "name": "python",
   "nbconvert_exporter": "python",
   "pygments_lexer": "ipython3",
   "version": "3.8.3"
  }
 },
 "nbformat": 4,
 "nbformat_minor": 4
}
