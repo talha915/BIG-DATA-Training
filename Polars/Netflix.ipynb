{
 "cells": [
  {
   "cell_type": "code",
   "execution_count": 1,
   "metadata": {},
   "outputs": [],
   "source": [
    "import polars as pl"
   ]
  },
  {
   "cell_type": "code",
   "execution_count": 2,
   "metadata": {},
   "outputs": [
    {
     "data": {
      "text/html": [
       "<i>naive plan: (run <b>LazyFrame.explain(optimized=True)</b> to see the optimized plan)</i>\n",
       "    <p></p>\n",
       "    <div><p></p>  CSV SCAN Dataset/Netflix/Netflix Userbase.csv<p></p>  PROJECT */10 COLUMNS</div>"
      ],
      "text/plain": [
       "<polars.LazyFrame object at 0x21B86240610>"
      ]
     },
     "execution_count": 2,
     "metadata": {},
     "output_type": "execute_result"
    }
   ],
   "source": [
    "df = pl.scan_csv('Dataset/Netflix/Netflix Userbase.csv')\n",
    "df"
   ]
  },
  {
   "cell_type": "markdown",
   "metadata": {},
   "source": [
    "### How many users are in the dataset?"
   ]
  },
  {
   "cell_type": "code",
   "execution_count": 11,
   "metadata": {},
   "outputs": [
    {
     "name": "stdout",
     "output_type": "stream",
     "text": [
      "The number of users in the dataset is: shape: (1, 1)\n",
      "┌───────┐\n",
      "│ count │\n",
      "│ ---   │\n",
      "│ u32   │\n",
      "╞═══════╡\n",
      "│ 2500  │\n",
      "└───────┘\n"
     ]
    }
   ],
   "source": [
    "df_count = df.select(pl.count()).collect()[0][0]\n",
    "print(f\"The number of users in the dataset is: {df_count}\")"
   ]
  },
  {
   "cell_type": "markdown",
   "metadata": {},
   "source": [
    "### What are the unique subscription types in the dataset?"
   ]
  },
  {
   "cell_type": "code",
   "execution_count": 14,
   "metadata": {},
   "outputs": [
    {
     "data": {
      "text/html": [
       "<div><style>\n",
       ".dataframe > thead > tr > th,\n",
       ".dataframe > tbody > tr > td {\n",
       "  text-align: right;\n",
       "}\n",
       "</style>\n",
       "<small>shape: (3, 1)</small><table border=\"1\" class=\"dataframe\"><thead><tr><th>Subscription Type</th></tr><tr><td>str</td></tr></thead><tbody><tr><td>&quot;Premium&quot;</td></tr><tr><td>&quot;Standard&quot;</td></tr><tr><td>&quot;Basic&quot;</td></tr></tbody></table></div>"
      ],
      "text/plain": [
       "shape: (3, 1)\n",
       "┌───────────────────┐\n",
       "│ Subscription Type │\n",
       "│ ---               │\n",
       "│ str               │\n",
       "╞═══════════════════╡\n",
       "│ Premium           │\n",
       "│ Standard          │\n",
       "│ Basic             │\n",
       "└───────────────────┘"
      ]
     },
     "execution_count": 14,
     "metadata": {},
     "output_type": "execute_result"
    }
   ],
   "source": [
    "df_subscription_type = df.select('Subscription Type').unique().collect()\n",
    "df_subscription_type"
   ]
  },
  {
   "cell_type": "markdown",
   "metadata": {},
   "source": [
    "### How many users joined before a specific date?"
   ]
  },
  {
   "cell_type": "code",
   "execution_count": null,
   "metadata": {},
   "outputs": [],
   "source": [
    "df_avg_revenue = df."
   ]
  },
  {
   "cell_type": "code",
   "execution_count": 5,
   "metadata": {},
   "outputs": [
    {
     "data": {
      "text/html": [
       "<div><style>\n",
       ".dataframe > thead > tr > th,\n",
       ".dataframe > tbody > tr > td {\n",
       "  text-align: right;\n",
       "}\n",
       "</style>\n",
       "<small>shape: (2_500, 10)</small><table border=\"1\" class=\"dataframe\"><thead><tr><th>User ID</th><th>Subscription Type</th><th>Monthly Revenue</th><th>Join Date</th><th>Last Payment Date</th><th>Country</th><th>Age</th><th>Gender</th><th>Device</th><th>Plan Duration</th></tr><tr><td>i64</td><td>str</td><td>i64</td><td>str</td><td>str</td><td>str</td><td>i64</td><td>str</td><td>str</td><td>str</td></tr></thead><tbody><tr><td>1</td><td>&quot;Basic&quot;</td><td>10</td><td>&quot;15-01-22&quot;</td><td>&quot;10-06-23&quot;</td><td>&quot;United States&quot;</td><td>28</td><td>&quot;Male&quot;</td><td>&quot;Smartphone&quot;</td><td>&quot;1 Month&quot;</td></tr><tr><td>2</td><td>&quot;Premium&quot;</td><td>15</td><td>&quot;05-09-21&quot;</td><td>&quot;22-06-23&quot;</td><td>&quot;Canada&quot;</td><td>35</td><td>&quot;Female&quot;</td><td>&quot;Tablet&quot;</td><td>&quot;1 Month&quot;</td></tr><tr><td>3</td><td>&quot;Standard&quot;</td><td>12</td><td>&quot;28-02-23&quot;</td><td>&quot;27-06-23&quot;</td><td>&quot;United Kingdom…</td><td>42</td><td>&quot;Male&quot;</td><td>&quot;Smart TV&quot;</td><td>&quot;1 Month&quot;</td></tr><tr><td>4</td><td>&quot;Standard&quot;</td><td>12</td><td>&quot;10-07-22&quot;</td><td>&quot;26-06-23&quot;</td><td>&quot;Australia&quot;</td><td>51</td><td>&quot;Female&quot;</td><td>&quot;Laptop&quot;</td><td>&quot;1 Month&quot;</td></tr><tr><td>5</td><td>&quot;Basic&quot;</td><td>10</td><td>&quot;01-05-23&quot;</td><td>&quot;28-06-23&quot;</td><td>&quot;Germany&quot;</td><td>33</td><td>&quot;Male&quot;</td><td>&quot;Smartphone&quot;</td><td>&quot;1 Month&quot;</td></tr><tr><td>6</td><td>&quot;Premium&quot;</td><td>15</td><td>&quot;18-03-22&quot;</td><td>&quot;27-06-23&quot;</td><td>&quot;France&quot;</td><td>29</td><td>&quot;Female&quot;</td><td>&quot;Smart TV&quot;</td><td>&quot;1 Month&quot;</td></tr><tr><td>7</td><td>&quot;Standard&quot;</td><td>12</td><td>&quot;09-12-21&quot;</td><td>&quot;25-06-23&quot;</td><td>&quot;Brazil&quot;</td><td>46</td><td>&quot;Male&quot;</td><td>&quot;Tablet&quot;</td><td>&quot;1 Month&quot;</td></tr><tr><td>8</td><td>&quot;Basic&quot;</td><td>10</td><td>&quot;02-04-23&quot;</td><td>&quot;24-06-23&quot;</td><td>&quot;Mexico&quot;</td><td>39</td><td>&quot;Female&quot;</td><td>&quot;Laptop&quot;</td><td>&quot;1 Month&quot;</td></tr><tr><td>9</td><td>&quot;Standard&quot;</td><td>12</td><td>&quot;20-10-22&quot;</td><td>&quot;23-06-23&quot;</td><td>&quot;Spain&quot;</td><td>37</td><td>&quot;Male&quot;</td><td>&quot;Smartphone&quot;</td><td>&quot;1 Month&quot;</td></tr><tr><td>10</td><td>&quot;Premium&quot;</td><td>15</td><td>&quot;07-01-23&quot;</td><td>&quot;22-06-23&quot;</td><td>&quot;Italy&quot;</td><td>44</td><td>&quot;Female&quot;</td><td>&quot;Smart TV&quot;</td><td>&quot;1 Month&quot;</td></tr><tr><td>11</td><td>&quot;Basic&quot;</td><td>10</td><td>&quot;16-05-22&quot;</td><td>&quot;22-06-23&quot;</td><td>&quot;United States&quot;</td><td>31</td><td>&quot;Female&quot;</td><td>&quot;Smartphone&quot;</td><td>&quot;1 Month&quot;</td></tr><tr><td>12</td><td>&quot;Premium&quot;</td><td>15</td><td>&quot;23-03-23&quot;</td><td>&quot;28-06-23&quot;</td><td>&quot;Canada&quot;</td><td>45</td><td>&quot;Male&quot;</td><td>&quot;Tablet&quot;</td><td>&quot;1 Month&quot;</td></tr><tr><td>&hellip;</td><td>&hellip;</td><td>&hellip;</td><td>&hellip;</td><td>&hellip;</td><td>&hellip;</td><td>&hellip;</td><td>&hellip;</td><td>&hellip;</td><td>&hellip;</td></tr><tr><td>2489</td><td>&quot;Basic&quot;</td><td>11</td><td>&quot;17-07-22&quot;</td><td>&quot;12-07-23&quot;</td><td>&quot;Australia&quot;</td><td>48</td><td>&quot;Female&quot;</td><td>&quot;Smartphone&quot;</td><td>&quot;1 Month&quot;</td></tr><tr><td>2490</td><td>&quot;Standard&quot;</td><td>10</td><td>&quot;17-07-22&quot;</td><td>&quot;15-07-23&quot;</td><td>&quot;Germany&quot;</td><td>35</td><td>&quot;Male&quot;</td><td>&quot;Smart TV&quot;</td><td>&quot;1 Month&quot;</td></tr><tr><td>2491</td><td>&quot;Premium&quot;</td><td>13</td><td>&quot;18-07-22&quot;</td><td>&quot;11-07-23&quot;</td><td>&quot;France&quot;</td><td>41</td><td>&quot;Female&quot;</td><td>&quot;Smartphone&quot;</td><td>&quot;1 Month&quot;</td></tr><tr><td>2492</td><td>&quot;Basic&quot;</td><td>14</td><td>&quot;19-07-22&quot;</td><td>&quot;12-07-23&quot;</td><td>&quot;Brazil&quot;</td><td>29</td><td>&quot;Female&quot;</td><td>&quot;Laptop&quot;</td><td>&quot;1 Month&quot;</td></tr><tr><td>2493</td><td>&quot;Standard&quot;</td><td>11</td><td>&quot;20-07-22&quot;</td><td>&quot;11-07-23&quot;</td><td>&quot;Mexico&quot;</td><td>33</td><td>&quot;Male&quot;</td><td>&quot;Smart TV&quot;</td><td>&quot;1 Month&quot;</td></tr><tr><td>2494</td><td>&quot;Premium&quot;</td><td>12</td><td>&quot;21-07-22&quot;</td><td>&quot;15-07-23&quot;</td><td>&quot;Spain&quot;</td><td>36</td><td>&quot;Male&quot;</td><td>&quot;Smart TV&quot;</td><td>&quot;1 Month&quot;</td></tr><tr><td>2495</td><td>&quot;Basic&quot;</td><td>15</td><td>&quot;23-07-22&quot;</td><td>&quot;12-07-23&quot;</td><td>&quot;Italy&quot;</td><td>43</td><td>&quot;Female&quot;</td><td>&quot;Laptop&quot;</td><td>&quot;1 Month&quot;</td></tr><tr><td>2496</td><td>&quot;Premium&quot;</td><td>14</td><td>&quot;25-07-22&quot;</td><td>&quot;12-07-23&quot;</td><td>&quot;Spain&quot;</td><td>28</td><td>&quot;Female&quot;</td><td>&quot;Smart TV&quot;</td><td>&quot;1 Month&quot;</td></tr><tr><td>2497</td><td>&quot;Basic&quot;</td><td>15</td><td>&quot;04-08-22&quot;</td><td>&quot;14-07-23&quot;</td><td>&quot;Spain&quot;</td><td>33</td><td>&quot;Female&quot;</td><td>&quot;Smart TV&quot;</td><td>&quot;1 Month&quot;</td></tr><tr><td>2498</td><td>&quot;Standard&quot;</td><td>12</td><td>&quot;09-08-22&quot;</td><td>&quot;15-07-23&quot;</td><td>&quot;United States&quot;</td><td>38</td><td>&quot;Male&quot;</td><td>&quot;Laptop&quot;</td><td>&quot;1 Month&quot;</td></tr><tr><td>2499</td><td>&quot;Standard&quot;</td><td>13</td><td>&quot;12-08-22&quot;</td><td>&quot;12-07-23&quot;</td><td>&quot;Canada&quot;</td><td>48</td><td>&quot;Female&quot;</td><td>&quot;Tablet&quot;</td><td>&quot;1 Month&quot;</td></tr><tr><td>2500</td><td>&quot;Basic&quot;</td><td>15</td><td>&quot;13-08-22&quot;</td><td>&quot;12-07-23&quot;</td><td>&quot;United States&quot;</td><td>35</td><td>&quot;Female&quot;</td><td>&quot;Smart TV&quot;</td><td>&quot;1 Month&quot;</td></tr></tbody></table></div>"
      ],
      "text/plain": [
       "shape: (2_500, 10)\n",
       "┌─────────┬───────────────────┬─────────────────┬───────────┬───┬─────┬────────┬────────────┬───────────────┐\n",
       "│ User ID ┆ Subscription Type ┆ Monthly Revenue ┆ Join Date ┆ … ┆ Age ┆ Gender ┆ Device     ┆ Plan Duration │\n",
       "│ ---     ┆ ---               ┆ ---             ┆ ---       ┆   ┆ --- ┆ ---    ┆ ---        ┆ ---           │\n",
       "│ i64     ┆ str               ┆ i64             ┆ str       ┆   ┆ i64 ┆ str    ┆ str        ┆ str           │\n",
       "╞═════════╪═══════════════════╪═════════════════╪═══════════╪═══╪═════╪════════╪════════════╪═══════════════╡\n",
       "│ 1       ┆ Basic             ┆ 10              ┆ 15-01-22  ┆ … ┆ 28  ┆ Male   ┆ Smartphone ┆ 1 Month       │\n",
       "│ 2       ┆ Premium           ┆ 15              ┆ 05-09-21  ┆ … ┆ 35  ┆ Female ┆ Tablet     ┆ 1 Month       │\n",
       "│ 3       ┆ Standard          ┆ 12              ┆ 28-02-23  ┆ … ┆ 42  ┆ Male   ┆ Smart TV   ┆ 1 Month       │\n",
       "│ 4       ┆ Standard          ┆ 12              ┆ 10-07-22  ┆ … ┆ 51  ┆ Female ┆ Laptop     ┆ 1 Month       │\n",
       "│ …       ┆ …                 ┆ …               ┆ …         ┆ … ┆ …   ┆ …      ┆ …          ┆ …             │\n",
       "│ 2497    ┆ Basic             ┆ 15              ┆ 04-08-22  ┆ … ┆ 33  ┆ Female ┆ Smart TV   ┆ 1 Month       │\n",
       "│ 2498    ┆ Standard          ┆ 12              ┆ 09-08-22  ┆ … ┆ 38  ┆ Male   ┆ Laptop     ┆ 1 Month       │\n",
       "│ 2499    ┆ Standard          ┆ 13              ┆ 12-08-22  ┆ … ┆ 48  ┆ Female ┆ Tablet     ┆ 1 Month       │\n",
       "│ 2500    ┆ Basic             ┆ 15              ┆ 13-08-22  ┆ … ┆ 35  ┆ Female ┆ Smart TV   ┆ 1 Month       │\n",
       "└─────────┴───────────────────┴─────────────────┴───────────┴───┴─────┴────────┴────────────┴───────────────┘"
      ]
     },
     "execution_count": 5,
     "metadata": {},
     "output_type": "execute_result"
    }
   ],
   "source": [
    "df.collect()"
   ]
  },
  {
   "cell_type": "code",
   "execution_count": 7,
   "metadata": {},
   "outputs": [],
   "source": [
    "df1 = pl.read_csv('Dataset/Netflix/Netflix Userbase.csv')"
   ]
  },
  {
   "cell_type": "code",
   "execution_count": 9,
   "metadata": {},
   "outputs": [
    {
     "data": {
      "text/plain": [
       "[Int64, Utf8, Int64, Utf8, Utf8, Utf8, Int64, Utf8, Utf8, Utf8]"
      ]
     },
     "execution_count": 9,
     "metadata": {},
     "output_type": "execute_result"
    }
   ],
   "source": [
    "df1.dtypes"
   ]
  },
  {
   "cell_type": "code",
   "execution_count": 10,
   "metadata": {},
   "outputs": [
    {
     "data": {
      "text/plain": [
       "[Int64, Utf8, Int64, Utf8, Utf8, Utf8, Int64, Utf8, Utf8, Utf8]"
      ]
     },
     "execution_count": 10,
     "metadata": {},
     "output_type": "execute_result"
    }
   ],
   "source": [
    "df.dtypes"
   ]
  },
  {
   "cell_type": "code",
   "execution_count": 11,
   "metadata": {},
   "outputs": [
    {
     "ename": "AttributeError",
     "evalue": "'LazyFrame' object has no attribute 'show'",
     "output_type": "error",
     "traceback": [
      "\u001b[1;31m---------------------------------------------------------------------------\u001b[0m",
      "\u001b[1;31mAttributeError\u001b[0m                            Traceback (most recent call last)",
      "\u001b[1;32m<ipython-input-11-1a6ce2362cd4>\u001b[0m in \u001b[0;36m<module>\u001b[1;34m\u001b[0m\n\u001b[1;32m----> 1\u001b[1;33m \u001b[0mdf\u001b[0m\u001b[1;33m.\u001b[0m\u001b[0mshow\u001b[0m\u001b[1;33m(\u001b[0m\u001b[1;33m)\u001b[0m\u001b[1;33m\u001b[0m\u001b[1;33m\u001b[0m\u001b[0m\n\u001b[0m",
      "\u001b[1;31mAttributeError\u001b[0m: 'LazyFrame' object has no attribute 'show'"
     ]
    }
   ],
   "source": []
  },
  {
   "cell_type": "code",
   "execution_count": null,
   "metadata": {},
   "outputs": [],
   "source": []
  }
 ],
 "metadata": {
  "kernelspec": {
   "display_name": "Python 3",
   "language": "python",
   "name": "python3"
  },
  "language_info": {
   "codemirror_mode": {
    "name": "ipython",
    "version": 3
   },
   "file_extension": ".py",
   "mimetype": "text/x-python",
   "name": "python",
   "nbconvert_exporter": "python",
   "pygments_lexer": "ipython3",
   "version": "3.8.5"
  }
 },
 "nbformat": 4,
 "nbformat_minor": 4
}
