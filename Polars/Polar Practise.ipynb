{
 "cells": [
  {
   "cell_type": "code",
   "execution_count": 1,
   "metadata": {},
   "outputs": [],
   "source": [
    "import polars as pl"
   ]
  },
  {
   "cell_type": "markdown",
   "metadata": {},
   "source": [
    "# Creating Dataframe df"
   ]
  },
  {
   "cell_type": "code",
   "execution_count": 2,
   "metadata": {},
   "outputs": [],
   "source": [
    "df = pl.DataFrame(\n",
    "    {\n",
    "        \"A\": [1, 2, 3, 4, 5],\n",
    "        \"fruits\": [\"banana\", \"banana\", \"apple\", \"apple\", \"banana\"],\n",
    "        \"B\": [5, 4, 3, 2, 1],\n",
    "        \"cars\": [\"beetle\", \"audi\", \"beetle\", \"beetle\", \"beetle\"],\n",
    "    }\n",
    ")"
   ]
  },
  {
   "cell_type": "markdown",
   "metadata": {},
   "source": [
    "# Creating Dataframe df2"
   ]
  },
  {
   "cell_type": "code",
   "execution_count": 3,
   "metadata": {},
   "outputs": [],
   "source": [
    "df2 = pl.DataFrame(\n",
    "    {\n",
    "        \"A\": [1, 2, 3],\n",
    "        \"fruits\": [\"banana\", \"apple\", \"mango\"]\n",
    "    }\n",
    ")"
   ]
  },
  {
   "cell_type": "code",
   "execution_count": 4,
   "metadata": {},
   "outputs": [
    {
     "name": "stdout",
     "output_type": "stream",
     "text": [
      "shape: (5, 4)\n",
      "┌─────┬────────┬─────┬────────┐\n",
      "│ A   ┆ fruits ┆ B   ┆ cars   │\n",
      "│ --- ┆ ---    ┆ --- ┆ ---    │\n",
      "│ i64 ┆ str    ┆ i64 ┆ str    │\n",
      "╞═════╪════════╪═════╪════════╡\n",
      "│ 1   ┆ banana ┆ 5   ┆ beetle │\n",
      "│ 2   ┆ banana ┆ 4   ┆ audi   │\n",
      "│ 3   ┆ apple  ┆ 3   ┆ beetle │\n",
      "│ 4   ┆ apple  ┆ 2   ┆ beetle │\n",
      "│ 5   ┆ banana ┆ 1   ┆ beetle │\n",
      "└─────┴────────┴─────┴────────┘\n"
     ]
    }
   ],
   "source": [
    "print(df)"
   ]
  },
  {
   "cell_type": "code",
   "execution_count": 5,
   "metadata": {},
   "outputs": [
    {
     "name": "stdout",
     "output_type": "stream",
     "text": [
      "shape: (3, 2)\n",
      "┌─────┬────────┐\n",
      "│ A   ┆ fruits │\n",
      "│ --- ┆ ---    │\n",
      "│ i64 ┆ str    │\n",
      "╞═════╪════════╡\n",
      "│ 1   ┆ banana │\n",
      "│ 2   ┆ apple  │\n",
      "│ 3   ┆ mango  │\n",
      "└─────┴────────┘\n"
     ]
    }
   ],
   "source": [
    "print(df2)"
   ]
  },
  {
   "cell_type": "code",
   "execution_count": null,
   "metadata": {},
   "outputs": [],
   "source": []
  }
 ],
 "metadata": {
  "kernelspec": {
   "display_name": "Python 3",
   "language": "python",
   "name": "python3"
  },
  "language_info": {
   "codemirror_mode": {
    "name": "ipython",
    "version": 3
   },
   "file_extension": ".py",
   "mimetype": "text/x-python",
   "name": "python",
   "nbconvert_exporter": "python",
   "pygments_lexer": "ipython3",
   "version": "3.8.5"
  }
 },
 "nbformat": 4,
 "nbformat_minor": 4
}
