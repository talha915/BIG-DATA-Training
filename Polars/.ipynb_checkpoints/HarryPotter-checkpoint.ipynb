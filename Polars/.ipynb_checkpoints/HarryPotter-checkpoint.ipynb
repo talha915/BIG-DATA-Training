{
 "cells": [
  {
   "cell_type": "code",
   "execution_count": 1,
   "metadata": {},
   "outputs": [],
   "source": [
    "import polars as pl"
   ]
  },
  {
   "cell_type": "code",
   "execution_count": 2,
   "metadata": {},
   "outputs": [
    {
     "data": {
      "text/html": [
       "<i>naive plan: (run <b>LazyFrame.explain(optimized=True)</b> to see the optimized plan)</i>\n",
       "    <p></p>\n",
       "    <div><p></p>  CSV SCAN Dataset/hp/hp1.csv<p></p>  PROJECT */4 COLUMNS</div>"
      ],
      "text/plain": [
       "<polars.LazyFrame object at 0x2141AEC6CD0>"
      ]
     },
     "execution_count": 2,
     "metadata": {},
     "output_type": "execute_result"
    }
   ],
   "source": [
    "df = pl.scan_csv('Dataset/hp/hp1.csv')\n",
    "df"
   ]
  },
  {
   "cell_type": "code",
   "execution_count": 4,
   "metadata": {},
   "outputs": [
    {
     "data": {
      "text/html": [
       "<div><style>\n",
       ".dataframe > thead > tr > th,\n",
       ".dataframe > tbody > tr > td {\n",
       "  text-align: right;\n",
       "}\n",
       "</style>\n",
       "<small>shape: (885, 4)</small><table border=\"1\" class=\"dataframe\"><thead><tr><th>movie</th><th>chapter</th><th>character</th><th>dialog</th></tr><tr><td>str</td><td>str</td><td>str</td><td>str</td></tr></thead><tbody><tr><td>&quot;Harry Potter a…</td><td>&quot;Doorstep Deliv…</td><td>&quot;Albus Dumbledo…</td><td>&quot;I should have …</td></tr><tr><td>&quot;Harry Potter a…</td><td>&quot;Doorstep Deliv…</td><td>&quot;Minerva McGona…</td><td>&quot;Good evening, …</td></tr><tr><td>&quot;Harry Potter a…</td><td>&quot;Doorstep Deliv…</td><td>&quot;Albus Dumbledo…</td><td>&quot;I&#x27;m afraid so,…</td></tr><tr><td>&quot;Harry Potter a…</td><td>&quot;Doorstep Deliv…</td><td>&quot;Minerva McGona…</td><td>&quot;And the boy?&quot;</td></tr><tr><td>&quot;Harry Potter a…</td><td>&quot;Doorstep Deliv…</td><td>&quot;Albus Dumbledo…</td><td>&quot;Hagrid is brin…</td></tr><tr><td>&quot;Harry Potter a…</td><td>&quot;Doorstep Deliv…</td><td>&quot;Minerva McGona…</td><td>&quot;Do you think i…</td></tr><tr><td>&quot;Harry Potter a…</td><td>&quot;Doorstep Deliv…</td><td>&quot;Albus Dumbledo…</td><td>&quot;Ah, Professor,…</td></tr><tr><td>&quot;Harry Potter a…</td><td>&quot;Doorstep Deliv…</td><td>&quot;Rubeus Hagrid&quot;</td><td>&quot;Professor Dumb…</td></tr><tr><td>&quot;Harry Potter a…</td><td>&quot;Doorstep Deliv…</td><td>&quot;Albus Dumbledo…</td><td>&quot;No problems, I…</td></tr><tr><td>&quot;Harry Potter a…</td><td>&quot;Doorstep Deliv…</td><td>&quot;Rubeus Hagrid&quot;</td><td>&quot;No, sir. Littl…</td></tr><tr><td>&quot;Harry Potter a…</td><td>&quot;Doorstep Deliv…</td><td>&quot;Minerva McGona…</td><td>&quot;Albus, do you …</td></tr><tr><td>&quot;Harry Potter a…</td><td>&quot;Doorstep Deliv…</td><td>&quot;Albus Dumbledo…</td><td>&quot;The only famil…</td></tr><tr><td>&hellip;</td><td>&hellip;</td><td>&hellip;</td><td>&hellip;</td></tr><tr><td>&quot;Harry Potter a…</td><td>&quot;House Cup Winn…</td><td>&quot;Seamus Finniga…</td><td>&quot;Neville!&quot;</td></tr><tr><td>&quot;Harry Potter a…</td><td>&quot;House Cup Winn…</td><td>&quot;Lee Jordan&quot;</td><td>&quot;Yeah! We won!!…</td></tr><tr><td>&quot;Harry Potter a…</td><td>&quot;Not Really Goi…</td><td>&quot;Rubeus Hagrid&quot;</td><td>&quot;Come on now, h…</td></tr><tr><td>&quot;Harry Potter a…</td><td>&quot;Not Really Goi…</td><td>&quot;Hermione Grang…</td><td>&quot;Come on, Harry…</td></tr><tr><td>&quot;Harry Potter a…</td><td>&quot;Not Really Goi…</td><td>&quot;Harry Potter&quot;</td><td>&quot;One minute.&quot;</td></tr><tr><td>&quot;Harry Potter a…</td><td>&quot;Not Really Goi…</td><td>&quot;Rubeus Hagrid&quot;</td><td>&quot;Thought you we…</td></tr><tr><td>&quot;Harry Potter a…</td><td>&quot;Not Really Goi…</td><td>&quot;Harry Potter&quot;</td><td>&quot;Thanks, Hagrid…</td></tr><tr><td>&quot;Harry Potter a…</td><td>&quot;Not Really Goi…</td><td>&quot;Rubeus Hagrid&quot;</td><td>&quot;Oh. Go on...on…</td></tr><tr><td>&quot;Harry Potter a…</td><td>&quot;Not Really Goi…</td><td>&quot;Harry Potter&quot;</td><td>&quot;But Hagrid, we…</td></tr><tr><td>&quot;Harry Potter a…</td><td>&quot;Not Really Goi…</td><td>&quot;Rubeus Hagrid&quot;</td><td>&quot;I do. But your…</td></tr><tr><td>&quot;Harry Potter a…</td><td>&quot;Not Really Goi…</td><td>&quot;Hermione Grang…</td><td>&quot;Feels strange …</td></tr><tr><td>&quot;Harry Potter a…</td><td>&quot;Not Really Goi…</td><td>&quot;Harry Potter&quot;</td><td>&quot;I&#x27;m not going …</td></tr></tbody></table></div>"
      ],
      "text/plain": [
       "shape: (885, 4)\n",
       "┌───────────────────────────────────┬───────────────────────┬────────────────────┬───────────────────────────────────┐\n",
       "│ movie                             ┆ chapter               ┆ character          ┆ dialog                            │\n",
       "│ ---                               ┆ ---                   ┆ ---                ┆ ---                               │\n",
       "│ str                               ┆ str                   ┆ str                ┆ str                               │\n",
       "╞═══════════════════════════════════╪═══════════════════════╪════════════════════╪═══════════════════════════════════╡\n",
       "│ Harry Potter and the Philosopher… ┆ Doorstep Delivery     ┆ Albus Dumbledore   ┆ I should have known that you wou… │\n",
       "│ Harry Potter and the Philosopher… ┆ Doorstep Delivery     ┆ Minerva McGonagall ┆ Good evening, Professor Dumbledo… │\n",
       "│ Harry Potter and the Philosopher… ┆ Doorstep Delivery     ┆ Albus Dumbledore   ┆ I'm afraid so, Professor. The go… │\n",
       "│ Harry Potter and the Philosopher… ┆ Doorstep Delivery     ┆ Minerva McGonagall ┆ And the boy?                      │\n",
       "│ …                                 ┆ …                     ┆ …                  ┆ …                                 │\n",
       "│ Harry Potter and the Philosopher… ┆ Not Really Going Home ┆ Harry Potter       ┆ But Hagrid, we're not allowed to… │\n",
       "│ Harry Potter and the Philosopher… ┆ Not Really Going Home ┆ Rubeus Hagrid      ┆ I do. But your cousin don't, do … │\n",
       "│ Harry Potter and the Philosopher… ┆ Not Really Going Home ┆ Hermione Granger   ┆ Feels strange to be going home, … │\n",
       "│ Harry Potter and the Philosopher… ┆ Not Really Going Home ┆ Harry Potter       ┆ I'm not going home. Not really.   │\n",
       "└───────────────────────────────────┴───────────────────────┴────────────────────┴───────────────────────────────────┘"
      ]
     },
     "execution_count": 4,
     "metadata": {},
     "output_type": "execute_result"
    }
   ],
   "source": [
    "df.collect()"
   ]
  },
  {
   "cell_type": "code",
   "execution_count": null,
   "metadata": {},
   "outputs": [],
   "source": []
  }
 ],
 "metadata": {
  "kernelspec": {
   "display_name": "Python 3",
   "language": "python",
   "name": "python3"
  },
  "language_info": {
   "codemirror_mode": {
    "name": "ipython",
    "version": 3
   },
   "file_extension": ".py",
   "mimetype": "text/x-python",
   "name": "python",
   "nbconvert_exporter": "python",
   "pygments_lexer": "ipython3",
   "version": "3.8.5"
  }
 },
 "nbformat": 4,
 "nbformat_minor": 4
}
