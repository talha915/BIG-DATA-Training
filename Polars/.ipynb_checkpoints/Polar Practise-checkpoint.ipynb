{
 "cells": [
  {
   "cell_type": "code",
   "execution_count": 1,
   "metadata": {},
   "outputs": [],
   "source": [
    "import polars as pl"
   ]
  },
  {
   "cell_type": "markdown",
   "metadata": {},
   "source": [
    "# Creating Dataframe df"
   ]
  },
  {
   "cell_type": "code",
   "execution_count": 2,
   "metadata": {},
   "outputs": [],
   "source": [
    "df = pl.DataFrame(\n",
    "    {\n",
    "        \"A\": [1, 2, 3, 4, 5],\n",
    "        \"fruits\": [\"banana\", \"banana\", \"apple\", \"apple\", \"banana\"],\n",
    "        \"B\": [5, 4, 3, 2, 1],\n",
    "        \"cars\": [\"beetle\", \"audi\", \"beetle\", \"beetle\", \"beetle\"],\n",
    "    }\n",
    ")"
   ]
  },
  {
   "cell_type": "markdown",
   "metadata": {},
   "source": [
    "# Creating Dataframe df2"
   ]
  },
  {
   "cell_type": "code",
   "execution_count": 3,
   "metadata": {},
   "outputs": [],
   "source": [
    "df2 = pl.DataFrame(\n",
    "    {\n",
    "        \"A\": [1, 2, 3],\n",
    "        \"fruits\": [\"banana\", \"apple\", \"mango\"]\n",
    "    }\n",
    ")"
   ]
  },
  {
   "cell_type": "code",
   "execution_count": 4,
   "metadata": {},
   "outputs": [
    {
     "name": "stdout",
     "output_type": "stream",
     "text": [
      "shape: (5, 4)\n",
      "┌─────┬────────┬─────┬────────┐\n",
      "│ A   ┆ fruits ┆ B   ┆ cars   │\n",
      "│ --- ┆ ---    ┆ --- ┆ ---    │\n",
      "│ i64 ┆ str    ┆ i64 ┆ str    │\n",
      "╞═════╪════════╪═════╪════════╡\n",
      "│ 1   ┆ banana ┆ 5   ┆ beetle │\n",
      "│ 2   ┆ banana ┆ 4   ┆ audi   │\n",
      "│ 3   ┆ apple  ┆ 3   ┆ beetle │\n",
      "│ 4   ┆ apple  ┆ 2   ┆ beetle │\n",
      "│ 5   ┆ banana ┆ 1   ┆ beetle │\n",
      "└─────┴────────┴─────┴────────┘\n"
     ]
    }
   ],
   "source": [
    "print(df)"
   ]
  },
  {
   "cell_type": "code",
   "execution_count": 5,
   "metadata": {},
   "outputs": [
    {
     "name": "stdout",
     "output_type": "stream",
     "text": [
      "shape: (3, 2)\n",
      "┌─────┬────────┐\n",
      "│ A   ┆ fruits │\n",
      "│ --- ┆ ---    │\n",
      "│ i64 ┆ str    │\n",
      "╞═════╪════════╡\n",
      "│ 1   ┆ banana │\n",
      "│ 2   ┆ apple  │\n",
      "│ 3   ┆ mango  │\n",
      "└─────┴────────┘\n"
     ]
    }
   ],
   "source": [
    "print(df2)"
   ]
  },
  {
   "cell_type": "markdown",
   "metadata": {},
   "source": [
    "## Filter the DataFrame to include only rows where the value in column \"A\" is greater than 2."
   ]
  },
  {
   "cell_type": "code",
   "execution_count": 6,
   "metadata": {},
   "outputs": [
    {
     "name": "stdout",
     "output_type": "stream",
     "text": [
      "shape: (3, 4)\n",
      "┌─────┬────────┬─────┬────────┐\n",
      "│ A   ┆ fruits ┆ B   ┆ cars   │\n",
      "│ --- ┆ ---    ┆ --- ┆ ---    │\n",
      "│ i64 ┆ str    ┆ i64 ┆ str    │\n",
      "╞═════╪════════╪═════╪════════╡\n",
      "│ 3   ┆ apple  ┆ 3   ┆ beetle │\n",
      "│ 4   ┆ apple  ┆ 2   ┆ beetle │\n",
      "│ 5   ┆ banana ┆ 1   ┆ beetle │\n",
      "└─────┴────────┴─────┴────────┘\n"
     ]
    }
   ],
   "source": [
    "def filter_rows(df, column_name, threshold):\n",
    "    \"\"\"\n",
    "    Input: Dataframe, column_name, threshold\n",
    "    Action: Filter the DataFrame to include only rows where the value in column \"A\" is greater than 2.\n",
    "    Output: Filtered rows\n",
    "    \"\"\"\n",
    "    filtered_rows = df.filter(pl.col(column_name) > threshold)\n",
    "    return filtered_rows\n",
    "\n",
    "filtered_rows = filter_rows(df, \"A\", 2)\n",
    "print(filtered_rows)"
   ]
  },
  {
   "cell_type": "markdown",
   "metadata": {},
   "source": [
    "## Group the DataFrame by the \"fruits\" column and calculate the average value of column \"B\" for each fruit."
   ]
  },
  {
   "cell_type": "code",
   "execution_count": 7,
   "metadata": {},
   "outputs": [
    {
     "name": "stdout",
     "output_type": "stream",
     "text": [
      "shape: (2, 2)\n",
      "┌────────┬──────────┐\n",
      "│ fruits ┆ B        │\n",
      "│ ---    ┆ ---      │\n",
      "│ str    ┆ f64      │\n",
      "╞════════╪══════════╡\n",
      "│ banana ┆ 3.333333 │\n",
      "│ apple  ┆ 2.5      │\n",
      "└────────┴──────────┘\n"
     ]
    }
   ],
   "source": [
    "def aggregate_rows(df, grouped_col, action_col):\n",
    "    \"\"\"\n",
    "    Input: Dataframe, grouped_col, action_col\n",
    "    Action: Group the DataFrame by the \"fruits\" column and calculate the average value of column \"B\" for each fruit.\n",
    "    Output: Aggregated rows\n",
    "    \"\"\"\n",
    "    try:\n",
    "        grouped_rows = df.groupby(pl.col(grouped_col)).agg(pl.mean(action_col))\n",
    "        return grouped_rows\n",
    "    except Exception as e:\n",
    "        return e\n",
    "\n",
    "aggregrated_rows = aggregate_rows(df, \"fruits\", \"B\")\n",
    "print(aggregrated_rows)\n"
   ]
  },
  {
   "cell_type": "markdown",
   "metadata": {},
   "source": [
    "# Sort the DataFrame in descending order based on the values in column \"A\""
   ]
  },
  {
   "cell_type": "code",
   "execution_count": 8,
   "metadata": {},
   "outputs": [
    {
     "name": "stdout",
     "output_type": "stream",
     "text": [
      "shape: (5, 4)\n",
      "┌─────┬────────┬─────┬────────┐\n",
      "│ A   ┆ fruits ┆ B   ┆ cars   │\n",
      "│ --- ┆ ---    ┆ --- ┆ ---    │\n",
      "│ i64 ┆ str    ┆ i64 ┆ str    │\n",
      "╞═════╪════════╪═════╪════════╡\n",
      "│ 5   ┆ banana ┆ 1   ┆ beetle │\n",
      "│ 4   ┆ apple  ┆ 2   ┆ beetle │\n",
      "│ 3   ┆ apple  ┆ 3   ┆ beetle │\n",
      "│ 2   ┆ banana ┆ 4   ┆ audi   │\n",
      "│ 1   ┆ banana ┆ 5   ┆ beetle │\n",
      "└─────┴────────┴─────┴────────┘\n"
     ]
    }
   ],
   "source": [
    "def sort_rows(df, column_name, action):\n",
    "    \"\"\"\n",
    "    Input: Dataframe, column_name, \"descending True or False: Boolean\"\n",
    "    Action: Sort the DataFrame in descending order based on the values in column \"A\"\n",
    "    Output: Aggregated rows\n",
    "    \"\"\"\n",
    "    try:\n",
    "        sorted_df = df.sort(by=column_name, descending=action)\n",
    "        return sorted_df\n",
    "    except Exception as e:\n",
    "        return e \n",
    "\n",
    "sorted_rows = sort_rows(df, \"A\", True)\n",
    "print(sorted_rows)   "
   ]
  },
  {
   "cell_type": "markdown",
   "metadata": {},
   "source": [
    "# Create a second DataFrame and join it with the original DataFrame based on a common column."
   ]
  },
  {
   "cell_type": "code",
   "execution_count": 9,
   "metadata": {},
   "outputs": [
    {
     "name": "stdout",
     "output_type": "stream",
     "text": [
      "shape: (3, 5)\n",
      "┌─────┬────────┬─────┬────────┬──────────────┐\n",
      "│ A   ┆ fruits ┆ B   ┆ cars   ┆ fruits_right │\n",
      "│ --- ┆ ---    ┆ --- ┆ ---    ┆ ---          │\n",
      "│ i64 ┆ str    ┆ i64 ┆ str    ┆ str          │\n",
      "╞═════╪════════╪═════╪════════╪══════════════╡\n",
      "│ 1   ┆ banana ┆ 5   ┆ beetle ┆ banana       │\n",
      "│ 2   ┆ banana ┆ 4   ┆ audi   ┆ apple        │\n",
      "│ 3   ┆ apple  ┆ 3   ┆ beetle ┆ mango        │\n",
      "└─────┴────────┴─────┴────────┴──────────────┘\n"
     ]
    }
   ],
   "source": [
    "def joined_rows(df, df2, column_name):\n",
    "    \"\"\"\n",
    "    Input: Dataframe, Dataframe, column name\n",
    "    Action: Create a second DataFrame and join it with the original DataFrame based on a common column.\n",
    "    Output: joined rows\n",
    "    \"\"\"\n",
    "    try:\n",
    "        df_join = df.join(df2, on=\"A\")\n",
    "        return df_join\n",
    "    except Exception as e:\n",
    "        return e \n",
    "\n",
    "df_joined = joined_rows(df, df2, \"A\")\n",
    "print(df_joined)"
   ]
  },
  {
   "cell_type": "code",
   "execution_count": null,
   "metadata": {},
   "outputs": [],
   "source": []
  }
 ],
 "metadata": {
  "kernelspec": {
   "display_name": "Python 3",
   "language": "python",
   "name": "python3"
  },
  "language_info": {
   "codemirror_mode": {
    "name": "ipython",
    "version": 3
   },
   "file_extension": ".py",
   "mimetype": "text/x-python",
   "name": "python",
   "nbconvert_exporter": "python",
   "pygments_lexer": "ipython3",
   "version": "3.8.5"
  }
 },
 "nbformat": 4,
 "nbformat_minor": 4
}
